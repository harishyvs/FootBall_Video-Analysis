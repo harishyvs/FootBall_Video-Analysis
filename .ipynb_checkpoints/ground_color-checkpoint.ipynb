{
 "cells": [
  {
   "cell_type": "code",
   "execution_count": 1,
   "metadata": {},
   "outputs": [],
   "source": [
    "def im2double(im):\n",
    "    min_val = np.min(im.ravel())\n",
    "    max_val = np.max(im.ravel())\n",
    "    out = (im.astype('float') - min_val) / (max_val - min_val)\n",
    "    return out\n",
    "\n",
    "def rgb_to_hsv(rgb):\n",
    "    input_shape = rgb.shape\n",
    "    rgb = rgb.reshape(-1, 3)\n",
    "    r, g, b = rgb[:, 0], rgb[:, 1], rgb[:, 2]\n",
    "\n",
    "    maxc = np.maximum(np.maximum(r, g), b)\n",
    "    minc = np.minimum(np.minimum(r, g), b)\n",
    "\n",
    "    v = maxc\n",
    "\n",
    "    deltac = maxc - minc\n",
    "    s = deltac / maxc\n",
    "    deltac[deltac == 0] = 1  # to not divide by zero (those results in any way would be overridden in next lines)\n",
    "    rc = (maxc - r) / deltac\n",
    "    gc = (maxc - g) / deltac\n",
    "    bc = (maxc - b) / deltac\n",
    "\n",
    "    h = 4.0 + gc - rc\n",
    "    h[g == maxc] = 2.0 + rc[g == maxc] - bc[g == maxc]\n",
    "    h[r == maxc] = bc[r == maxc] - gc[r == maxc]\n",
    "    h[minc == maxc] = 0.0\n",
    "\n",
    "    h = (h / 6.0) % 1.0\n",
    "    res = np.dstack([h, s, v])\n",
    "    return res.reshape(input_shape)\n",
    "\n"
   ]
  },
  {
   "cell_type": "code",
   "execution_count": 2,
   "metadata": {},
   "outputs": [],
   "source": [
    "import cv2\n",
    "import numpy as np\n",
    "from matplotlib import pyplot as plt\n",
    "img = cv2.imread(\"aa.jpg\")\n",
    "img = cv2.cvtColor(img, cv2.COLOR_BGR2RGB)\n",
    "# cv2.namedWindow(\"Original Window\",cv2.WINDOW_NORMAL)\n",
    "img=np.array(img)\n",
    "pq=img\n",
    "im=img\n",
    "\n",
    "I=im2double(img)\n",
    "I = np.array(I)\n",
    "I=I.astype(np.float32)\n",
    "plt.subplot(122),plt.imshow(I,'gray'),plt.title('magnitude spectrum')\n",
    "fig_size = plt.rcParams[\"figure.figsize\"]\n",
    "fig_size[0] = 500\n",
    "fig_size[1] = 500\n",
    "plt.rcParams[\"figure.figsize\"]=fig_size\n",
    "# cv2.imshow(\"Original Window\",I)\n",
    "# cv2.waitKey()"
   ]
  },
  {
   "cell_type": "code",
   "execution_count": 3,
   "metadata": {},
   "outputs": [
    {
     "name": "stdout",
     "output_type": "stream",
     "text": [
      "0.262745098039\n"
     ]
    },
    {
     "ename": "error",
     "evalue": "/tmp/binarydeb/ros-kinetic-opencv3-3.3.1/modules/imgproc/src/thresh.cpp:1406: error: (-215) src.type() == (((0) & ((1 << 3) - 1)) + (((1)-1) << 3)) in function threshold\n",
     "output_type": "error",
     "traceback": [
      "\u001b[0;31m---------------------------------------------------------------------------\u001b[0m",
      "\u001b[0;31merror\u001b[0m                                     Traceback (most recent call last)",
      "\u001b[0;32m<ipython-input-3-006e13e87a66>\u001b[0m in \u001b[0;36m<module>\u001b[0;34m()\u001b[0m\n\u001b[1;32m     36\u001b[0m        \u001b[0mic\u001b[0m\u001b[0;34m[\u001b[0m\u001b[0mnp\u001b[0m\u001b[0;34m.\u001b[0m\u001b[0mwhere\u001b[0m\u001b[0;34m(\u001b[0m\u001b[0mic\u001b[0m\u001b[0;34m==\u001b[0m\u001b[0;36m0\u001b[0m\u001b[0;34m)\u001b[0m\u001b[0;34m]\u001b[0m\u001b[0;34m=\u001b[0m\u001b[0;36m0\u001b[0m\u001b[0;34m\u001b[0m\u001b[0m\n\u001b[1;32m     37\u001b[0m        \u001b[0mic\u001b[0m\u001b[0;34m[\u001b[0m\u001b[0mnp\u001b[0m\u001b[0;34m.\u001b[0m\u001b[0mwhere\u001b[0m\u001b[0;34m(\u001b[0m\u001b[0mic\u001b[0m\u001b[0;34m==\u001b[0m\u001b[0;36m1\u001b[0m\u001b[0;34m)\u001b[0m\u001b[0;34m]\u001b[0m\u001b[0;34m=\u001b[0m\u001b[0;36m1\u001b[0m\u001b[0;34m\u001b[0m\u001b[0m\n\u001b[0;32m---> 38\u001b[0;31m     \u001b[0mret2\u001b[0m\u001b[0;34m,\u001b[0m\u001b[0mth2\u001b[0m \u001b[0;34m=\u001b[0m \u001b[0mcv2\u001b[0m\u001b[0;34m.\u001b[0m\u001b[0mthreshold\u001b[0m\u001b[0;34m(\u001b[0m\u001b[0mic\u001b[0m\u001b[0;34m,\u001b[0m\u001b[0;36m0\u001b[0m\u001b[0;34m,\u001b[0m\u001b[0;36m255\u001b[0m\u001b[0;34m,\u001b[0m\u001b[0mcv2\u001b[0m\u001b[0;34m.\u001b[0m\u001b[0mTHRESH_BINARY\u001b[0m \u001b[0;34m|\u001b[0m \u001b[0mcv2\u001b[0m\u001b[0;34m.\u001b[0m\u001b[0mTHRESH_OTSU\u001b[0m\u001b[0;34m)\u001b[0m\u001b[0;34m\u001b[0m\u001b[0m\n\u001b[0m\u001b[1;32m     39\u001b[0m     \u001b[0;32mprint\u001b[0m\u001b[0;34m(\u001b[0m\u001b[0mret2\u001b[0m\u001b[0;34m)\u001b[0m\u001b[0;34m\u001b[0m\u001b[0m\n\u001b[1;32m     40\u001b[0m \u001b[0;31m# print(center)\u001b[0m\u001b[0;34m\u001b[0m\u001b[0;34m\u001b[0m\u001b[0m\n",
      "\u001b[0;31merror\u001b[0m: /tmp/binarydeb/ros-kinetic-opencv3-3.3.1/modules/imgproc/src/thresh.cpp:1406: error: (-215) src.type() == (((0) & ((1 << 3) - 1)) + (((1)-1) << 3)) in function threshold\n"
     ]
    },
    {
     "data": {
      "image/png": "[encoded data removed]",
      "text/plain": [
       "<Figure size 432x288 with 1 Axes>"
      ]
     },
     "metadata": {},
     "output_type": "display_data"
    }
   ],
   "source": [
    "HSV=rgb_to_hsv(I)\n",
    "H=HSV[:,:,0];\n",
    "H=np.reshape(H,(720*1280,1))\n",
    "S=HSV[:,:,1];\n",
    "S=np.reshape(S,(720*1280,1))\n",
    "V=HSV[:,:,2];\n",
    "V=np.reshape(V,(720*1280,1))\n",
    "\n",
    "# cv2.namedWindow(\"H Image\",cv2.WINDOW_NORMAL)\n",
    "# cv2.imshow(\"H Image\",HSV[:,:,0])\n",
    "# cv2.waitKey()\n",
    "plt.subplot(122),plt.imshow(HSV[:,:,0],'gray'),plt.title('magnitude spectrum')\n",
    "fig_size = plt.rcParams[\"figure.figsize\"]\n",
    "fig_size[0] = 500\n",
    "fig_size[1] = 500\n",
    "plt.rcParams[\"figure.figsize\"]=fig_size\n",
    "counts,compr = np.histogram(HSV[:,:,0],256);\n",
    "compr=compr[:-1]-np.diff(compr)/2\n",
    "maxEl=np.amax(counts)\n",
    "index=np.where(counts ==maxEl)\n",
    "compr=float(index[0][0])/255\n",
    "print(compr)\n",
    "\n",
    "hsv=np.concatenate((H,S,V),axis=1)\n",
    "hsv=hsv.astype(np.float32)\n",
    "for i in range(1,4):\n",
    "    criteria = (cv2.TERM_CRITERIA_EPS + cv2.TERM_CRITERIA_MAX_ITER, 10, 1.0)\n",
    "    flags = cv2.KMEANS_RANDOM_CENTERS\n",
    "    sumd,idx,center = cv2.kmeans(hsv,2,None,criteria,1,flags)\n",
    "    ic=np.reshape(idx,(img.shape[0],img.shape[1]))\n",
    "# print(ic)\n",
    "    if(abs(center[0][0]-compr)<=abs(center[0][0]-compr)):\n",
    "       ic[np.where(ic==0)]=1\n",
    "       ic[np.where(ic==1)]=0\n",
    "    else:\n",
    "       ic[np.where(ic==0)]=0\n",
    "       ic[np.where(ic==1)]=1\n",
    "    ret2,th2 = cv2.threshold(ic,0,255,cv2.THRESH_BINARY | cv2.THRESH_OTSU)\n",
    "    print(ret2)\n",
    "# print(center)\n",
    "# print(sumd)\n",
    "# print(idx)\n",
    "# print(center)\n",
    "# thresh=threshold ( grey_image, bin_image, 0, 255, THRESH_BINARY | THRESH_OTSU );"
   ]
  },
  {
   "cell_type": "code",
   "execution_count": null,
   "metadata": {},
   "outputs": [],
   "source": []
  }
 ],
 "metadata": {
  "kernelspec": {
   "display_name": "Python 2",
   "language": "python",
   "name": "python2"
  },
  "language_info": {
   "codemirror_mode": {
    "name": "ipython",
    "version": 2
   },
   "file_extension": ".py",
   "mimetype": "text/x-python",
   "name": "python",
   "nbconvert_exporter": "python",
   "pygments_lexer": "ipython2",
   "version": "2.7.15"
  }
 },
 "nbformat": 4,
 "nbformat_minor": 2
}
